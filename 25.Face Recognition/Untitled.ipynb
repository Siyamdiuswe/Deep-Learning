{
 "cells": [
  {
   "cell_type": "code",
   "execution_count": 1,
   "metadata": {},
   "outputs": [],
   "source": [
    "import face_recognition\n",
    "from PIL import Image,ImageDraw"
   ]
  },
  {
   "cell_type": "code",
   "execution_count": 2,
   "metadata": {},
   "outputs": [],
   "source": [
    "image = face_recognition.load_image_file(\"E:/25. Face Recognition/biden.jpg\")"
   ]
  },
  {
   "cell_type": "code",
   "execution_count": 3,
   "metadata": {},
   "outputs": [],
   "source": [
    "face_locations = face_recognition.face_locations(image)\n",
    "face_landmarks_list = face_recognition.face_landmarks(image)"
   ]
  },
  {
   "cell_type": "code",
   "execution_count": 4,
   "metadata": {},
   "outputs": [
    {
     "name": "stdout",
     "output_type": "stream",
     "text": [
      "I found 1 face(s) in this photograph.\n",
      "I found 1 face(s) in this photograph.\n"
     ]
    }
   ],
   "source": [
    "print(\"I found {} face(s) in this photograph.\".format(len(face_locations)))\n",
    "print(\"I found {} face(s) in this photograph.\".format(len(face_landmarks_list)))"
   ]
  },
  {
   "cell_type": "code",
   "execution_count": 5,
   "metadata": {},
   "outputs": [
    {
     "name": "stdout",
     "output_type": "stream",
     "text": [
      "A face is located at pixel location Top: 297, Left: 245, Bottom: 759, Right: 707\n"
     ]
    }
   ],
   "source": [
    "for face_location in face_locations:\n",
    "\n",
    "    # Print the location of each face in this image\n",
    "    top, right, bottom, left = face_location\n",
    "    print(\"A face is located at pixel location Top: {}, Left: {}, Bottom: {}, Right: {}\".format(top, left, bottom, right))\n",
    "\n",
    "    # You can access the actual face itself like this:\n",
    "    face_image = image[top:bottom, left:right]\n",
    "    pil_image = Image.fromarray(face_image)\n",
    "    pil_image.show()"
   ]
  },
  {
   "cell_type": "code",
   "execution_count": 6,
   "metadata": {},
   "outputs": [],
   "source": [
    "# Create a PIL imagedraw object so we can draw on the picture\n",
    "pil_image = Image.fromarray(image)\n",
    "d = ImageDraw.Draw(pil_image)"
   ]
  },
  {
   "cell_type": "code",
   "execution_count": 7,
   "metadata": {},
   "outputs": [
    {
     "name": "stdout",
     "output_type": "stream",
     "text": [
      "The chin in this face has the following points: [(215, 501), (222, 558), (231, 613), (244, 670), (269, 722), (312, 762), (369, 788), (427, 806), (492, 806), (553, 792), (601, 765), (642, 730), (670, 683), (683, 627), (684, 569), (679, 514), (672, 461)]\n",
      "The left_eyebrow in this face has the following points: [(268, 422), (291, 385), (331, 364), (375, 361), (417, 375)]\n",
      "The right_eyebrow in this face has the following points: [(472, 377), (511, 358), (555, 354), (597, 365), (624, 398)]\n",
      "The nose_bridge in this face has the following points: [(449, 417), (454, 452), (459, 487), (463, 524)]\n",
      "The nose_tip in this face has the following points: [(412, 561), (438, 567), (467, 573), (493, 563), (515, 554)]\n",
      "The left_eye in this face has the following points: [(317, 449), (337, 432), (360, 429), (388, 441), (362, 444), (339, 446)]\n",
      "The right_eye in this face has the following points: [(511, 432), (535, 417), (558, 415), (583, 428), (560, 430), (536, 431)]\n",
      "The top_lip in this face has the following points: [(345, 645), (390, 628), (433, 616), (467, 619), (496, 613), (537, 620), (579, 634), (566, 636), (497, 627), (468, 630), (435, 630), (359, 646)]\n",
      "The bottom_lip in this face has the following points: [(579, 634), (542, 661), (502, 678), (471, 682), (437, 681), (392, 670), (345, 645), (359, 646), (435, 660), (469, 660), (499, 656), (566, 636)]\n"
     ]
    }
   ],
   "source": [
    "for face_landmarks in face_landmarks_list:\n",
    "\n",
    "    # Print the location of each facial feature in this image\n",
    "    for facial_feature in face_landmarks.keys():\n",
    "        print(\"The {} in this face has the following points: {}\".format(facial_feature, face_landmarks[facial_feature]))\n",
    "\n",
    "    # Let's trace out each facial feature in the image with a line!\n",
    "    for facial_feature in face_landmarks.keys():\n",
    "        d.line(face_landmarks[facial_feature], width=5)\n",
    "\n",
    "# Show the picture\n",
    "pil_image.show()"
   ]
  },
  {
   "cell_type": "code",
   "execution_count": null,
   "metadata": {},
   "outputs": [],
   "source": []
  }
 ],
 "metadata": {
  "kernelspec": {
   "display_name": "Python 3",
   "language": "python",
   "name": "python3"
  },
  "language_info": {
   "codemirror_mode": {
    "name": "ipython",
    "version": 3
   },
   "file_extension": ".py",
   "mimetype": "text/x-python",
   "name": "python",
   "nbconvert_exporter": "python",
   "pygments_lexer": "ipython3",
   "version": "3.7.7"
  }
 },
 "nbformat": 4,
 "nbformat_minor": 4
}
